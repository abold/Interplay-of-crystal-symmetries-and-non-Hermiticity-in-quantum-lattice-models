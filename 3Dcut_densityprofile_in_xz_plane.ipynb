{
 "cells": [
  {
   "cell_type": "code",
   "execution_count": 1,
   "metadata": {},
   "outputs": [],
   "source": [
    "from __future__ import print_function\n",
    "import numpy as np\n",
    "import matplotlib.pyplot as plt\n",
    "import scipy.linalg as la\n",
    "from matplotlib import cm\n",
    "from numpy.linalg import inv\n",
    "import random\n",
    "import math"
   ]
  },
  {
   "cell_type": "markdown",
   "metadata": {},
   "source": [
    "## WZ term to be calculated \n"
   ]
  },
  {
   "cell_type": "code",
   "execution_count": 2,
   "metadata": {},
   "outputs": [],
   "source": [
    "def eig_(M, sortby = 'real'):\n",
    "    \"\"\" Returns the eigenvalues, eigenvectors (left and right if the matrix is\n",
    "    non-symmetric) of a matrix M in an ascending order. sortby = 'real', 'imag' or 'abs'. \"\"\"\n",
    "    if np.allclose(M, M.T.conj()):\n",
    "        evals, evecs = la.eig(M)\n",
    "        sort_p = (evals.real).argsort()\n",
    "        evals=evals[sort_p]\n",
    "        evecs=evecs[:, sort_p]\n",
    "        return evals, evecs\n",
    "    else:\n",
    "        evals, evecs_l, evecs_r = la.eig(M, left = True, right = True)\n",
    "        if sortby == 'real':\n",
    "           sort_p = (evals.real).argsort()\n",
    "        elif sortby == 'imag':\n",
    "           sort_p = (evals.imag).argsort()\n",
    "        elif sortby == 'abs':\n",
    "           sort_p = (np.abs(evals)).argsort()\n",
    "        evals = evals[sort_p]\n",
    "        evecs_r = evecs_r[:, sort_p]\n",
    "        evecs_l = evecs_l[:, sort_p]\n",
    "        return evals, evecs_l, evecs_r\n"
   ]
  },
  {
   "cell_type": "code",
   "execution_count": 4,
   "metadata": {},
   "outputs": [],
   "source": [
    "# WZ integral for various bloch matrices depending on lambdas \n",
    "sigma_z = np.zeros((4,4), dtype=np.complex128)\n",
    "sigma_z[0,0] += 1\n",
    "sigma_z[1,1] += 1\n",
    "sigma_z[2,2] += -1\n",
    "sigma_z[3,3] += -1\n",
    "\n",
    "# Bloch Hamiltonian\n",
    "n_k=23 # number of steps \n",
    "k_x = np.linspace(0,2*np.pi,n_k, endpoint=False)\n",
    "k_y = np.linspace(0,2*np.pi,n_k, endpoint=False)\n",
    "k_z = np.linspace(0,2*np.pi,n_k, endpoint=False)\n",
    "gamma=0.5\n",
    "lamb=1\n",
    "H = np.zeros((4,4), dtype=np.complex128)\n",
    "n_t = n_k # number of steps\n",
    "t = np.linspace(0,1,n_t)\n",
    "\n",
    "sigma_x = np.array([[0,1],[1,0]])\n",
    "sigma_y = np.array([[0,-1j],[1j,0]])\n",
    "sigma_z = np.array([[1,0],[0,-1]])\n",
    "I = np.identity(2)\n",
    "\n",
    "\n",
    "def Bloch_pauli(kx, ky, kz, gamma, lamb):\n",
    "    H_1 = 0#1j*lamb*np.sin(ky)*np.kron(sigma_x,I)+1j*(gamma+lamb*np.cos(ky))*np.kron(sigma_y,I)\n",
    "    H_2 = 1j*lamb*np.sin(kx)*np.kron(sigma_z,I)+(gamma+lamb*np.cos(kx))*np.kron(I,sigma_z)#1j*lamb*np.sin(kx)*np.kron(sigma_z,I)+\n",
    "    H_3 = lamb*np.sin(kz)*np.kron(I,sigma_y)+(gamma+lamb*np.cos(kz))*np.kron(I,sigma_x)\n",
    "    H_p = H_1+H_2+H_3\n",
    "    #Hermitized-------------\n",
    "    Hermi=(H_p+H_p.conj().T)/2\n",
    "    #-----------------------\n",
    "    return H_p\n"
   ]
  },
  {
   "cell_type": "code",
   "execution_count": 5,
   "metadata": {},
   "outputs": [
    {
     "name": "stdout",
     "output_type": "stream",
     "text": [
      "0 [[ 0.5+0.j  0.5+0.j  0. +0.j  0. +0.j]\n",
      " [ 0.5-0.j -0.5+0.j  0. +0.j  0. +0.j]\n",
      " [ 0. +0.j  0. +0.j  0.5-0.j  0.5+0.j]\n",
      " [ 0. +0.j  0. +0.j  0.5-0.j -0.5-0.j]]\n",
      "a1 [[-0.+0.j -0.-0.j  0.+0.j  0.+0.j]\n",
      " [-0.-0.j -1.-0.j  0.+0.j  0.+0.j]\n",
      " [ 0.+0.j  0.+0.j  1.+0.j -0.-0.j]\n",
      " [ 0.+0.j  0.+0.j -0.-0.j  0.-0.j]]\n",
      "-a1 [[ 1.-0.j -0.+0.j  0.+0.j  0.+0.j]\n",
      " [-0.+0.j  0.+0.j  0.+0.j  0.+0.j]\n",
      " [ 0.+0.j  0.+0.j -0.-0.j -0.+0.j]\n",
      " [ 0.+0.j  0.+0.j -0.+0.j -1.+0.j]]\n",
      "a3 [[-0.-0.j  1.-0.j  0.+0.j  0.+0.j]\n",
      " [-0.+0.j  0.-0.j  0.+0.j  0.+0.j]\n",
      " [ 0.+0.j  0.+0.j -0.+0.j  1.-0.j]\n",
      " [ 0.+0.j  0.+0.j -0.+0.j  0.+0.j]]\n",
      "-a3 [[-0.-0.j -0.-0.j  0.+0.j  0.+0.j]\n",
      " [ 1.+0.j  0.-0.j  0.+0.j  0.+0.j]\n",
      " [ 0.+0.j  0.+0.j -0.+0.j -0.-0.j]\n",
      " [ 0.+0.j  0.+0.j  1.+0.j  0.+0.j]]\n"
     ]
    }
   ],
   "source": [
    "#from here Fourier transform \n",
    "a1=np.array([1.,0.,0.])\n",
    "a2=np.array([0.,1.,0.])\n",
    "a3=np.array([0.,0.,1.])\n",
    "\n",
    "#-------------------------------------------------------------\n",
    "hopping=np.zeros((7,4,4),dtype=np.complex128)\n",
    "\n",
    "\n",
    "for i in range(len(k_x)):\n",
    "    for r in range(len(k_z)):\n",
    "        ky=np.pi\n",
    "        k = np.array([k_x[i],ky,k_z[r]])\n",
    "        hopping[0] += (Bloch_pauli(k_x[i],ky,k_z[r], gamma,lamb))\n",
    "        hopping[1] += (np.exp(1j*np.dot(k,a1))*Bloch_pauli(k_x[i],ky,k_z[r],gamma,lamb))\n",
    "        hopping[2] += (np.exp(-1j*np.dot(k,a1))*Bloch_pauli(k_x[i],ky,k_z[r],gamma,lamb))\n",
    "        hopping[5] += (np.exp(1j*np.dot(k,a3))*Bloch_pauli(k_x[i],ky,k_z[r],gamma,lamb))\n",
    "        hopping[6] += (np.exp(-1j*np.dot(k,a3))*Bloch_pauli(k_x[i],ky,k_z[r],gamma,lamb))\n",
    "\n",
    "hopping[0]=hopping[0]/(n_k*n_k)\n",
    "hopping[1]=hopping[1]/(n_k*n_k)\n",
    "hopping[2]=hopping[2]/(n_k*n_k)\n",
    "hopping[5]=hopping[5]/(n_k*n_k)\n",
    "hopping[6]=hopping[6]/(n_k*n_k)\n",
    "\n",
    "print('0',np.round(hopping[0],2))\n",
    "print('a1',np.round(hopping[1],2))\n",
    "print('-a1',np.round(hopping[2],2))\n",
    "print('a3',np.round(hopping[5],2))\n",
    "print('-a3',np.round(hopping[6],2))\n"
   ]
  },
  {
   "cell_type": "code",
   "execution_count": 6,
   "metadata": {},
   "outputs": [
    {
     "name": "stdout",
     "output_type": "stream",
     "text": [
      "[[ 0.+0.j  0.+0.j  0.+0.j  0.+0.j  1.-0.j -0.+0.j  0.+0.j  0.+0.j]\n",
      " [ 0.+0.j  0.+0.j  0.+0.j  0.+0.j -0.+0.j  0.+0.j  0.+0.j  0.+0.j]\n",
      " [ 0.+0.j  0.+0.j  0.+0.j  0.+0.j  0.+0.j  0.+0.j -0.-0.j -0.+0.j]\n",
      " [ 0.+0.j  0.+0.j  0.+0.j  0.+0.j  0.+0.j  0.+0.j -0.+0.j -1.+0.j]\n",
      " [ 0.+0.j  0.+0.j  0.+0.j  0.+0.j  0.+0.j  0.+0.j  0.+0.j  0.+0.j]\n",
      " [ 0.+0.j  0.+0.j  0.+0.j  0.+0.j  0.+0.j  0.+0.j  0.+0.j  0.+0.j]\n",
      " [ 0.+0.j  0.+0.j  0.+0.j  0.+0.j  0.+0.j  0.+0.j  0.+0.j  0.+0.j]\n",
      " [ 0.+0.j  0.+0.j  0.+0.j  0.+0.j  0.+0.j  0.+0.j  0.+0.j  0.+0.j]]\n"
     ]
    }
   ],
   "source": [
    "%matplotlib qt5\n",
    "#L=2  # number of unit cells\n",
    "L = 2\n",
    "xcell = L\n",
    "zcell = L\n",
    "X=0 # boundary terms\n",
    "Z=0\n",
    "\n",
    "def FT(L):\n",
    "\n",
    "    L1 = L # number of the unit cell and same for all directions \n",
    "    L2 = L\n",
    "    n=4*L*L\n",
    "    A = 4\n",
    "    H=np.zeros((n,n),dtype=np.complex128)                #building real space hamiltonian using FT blocks \n",
    "\n",
    "    for i in range(n//4):\n",
    "        j=A*i\n",
    "        H[j:j+A,j:j+A]+=hopping[0]\n",
    "    #print(np.round(H[0:8,0:8],2))\n",
    "    \n",
    "    #---------------------------------------------------------------------\n",
    "  \n",
    "    m=0  \n",
    "    for i in range(L2):\n",
    "        for j in range(L1-1):\n",
    "            H[m+A*j:m+A*j+A,m+A*j+A:m+A*j+2*A]+=hopping[1]   # in x direction\n",
    "            H[m+A*j+A:m+A*j+2*A,m+A*j:m+A*j+A]+=hopping[2]\n",
    "        m+=L1*A\n",
    "    g=0\n",
    "    s=L1*A\n",
    "    for j in range(L2-1):  # \n",
    "        for i in range(L1):\n",
    "            H[g+A*i:g+A*i+A,g+s+A*i:g+s+A*i+A]+=hopping[6]   # in y direction \n",
    "            H[g+s+A*i:g+s+A*i+A,g+A*i:g+A*i+A]+=hopping[5]\n",
    "        g+=L1*A   # g is: every time the indices start from new row \n",
    "\n",
    "\n",
    "\n",
    "    #---------------------------------------------------------------------\n",
    "    #boundary terms in x, y, z directions \n",
    "\n",
    "    v1=0\n",
    "    for i in range(L2): # the length of the y direction is to add the x boundary hoppings \n",
    "        H[v1:v1+A,v1+A*(L1-1):v1+A*L1]+=X*hopping[2]   # in x direction\n",
    "        H[v1+A*(L1-1):v1+A*L1,v1:v1+A]+=X*hopping[1]\n",
    "        v1+=L1*A\n",
    "\n",
    "\n",
    "    v2=0\n",
    "    for i in range(L1):# the length of the x direction is to add the y boundary hoppings\n",
    "        H[v2:v2+A,v2+A*L1*(L2-1):v2+A*L1*(L2-1)+A]+=Z*hopping[5]   # in y direction\n",
    "        H[v2+A*L1*(L2-1):v2+A*L1*(L2-1)+A,v2:v2+A]+=Z*hopping[6]\n",
    "        v2+=A\n",
    "\n",
    "\n",
    "    return H\n",
    "\n",
    "\n",
    "\n",
    "print(np.round(FT(4)[8:16,0:8],2))\n"
   ]
  },
  {
   "cell_type": "code",
   "execution_count": 7,
   "metadata": {},
   "outputs": [],
   "source": [
    "L=20\n",
    "e = eig_(FT(L))  #evals, evecs_l, evecs_r\n"
   ]
  },
  {
   "cell_type": "code",
   "execution_count": 8,
   "metadata": {},
   "outputs": [
    {
     "name": "stderr",
     "output_type": "stream",
     "text": [
      "/Users/anar/opt/anaconda3/lib/python3.7/site-packages/ipykernel_launcher.py:12: ComplexWarning: Casting complex values to real discards the imaginary part\n",
      "  if sys.path[0] == '':\n"
     ]
    }
   ],
   "source": [
    "#calculate IPR for the right vector \n",
    "%matplotlib qt5\n",
    "A=4\n",
    "n=A*L*L\n",
    "sumRight = np.zeros(n)\n",
    "l=0\n",
    "while l<n:\n",
    "    index = l\n",
    "    vecpropl = e[1][:,index] #label r for right vector l for left\n",
    "    vecpropr = e[1][:,index] #label r for right vector l for left\n",
    "    psiSqr=vecpropr*np.conj(vecpropr) #probability for every lattice site\n",
    "    sumRight[index] = sum(np.square(psiSqr))\n",
    "    l += 1\n",
    "    "
   ]
  },
  {
   "cell_type": "code",
   "execution_count": 9,
   "metadata": {},
   "outputs": [
    {
     "name": "stdout",
     "output_type": "stream",
     "text": [
      "80\n",
      "(array([740, 741, 742, 743, 748, 749, 750, 751, 756, 757, 758, 759, 768,\n",
      "       769, 770, 771, 776, 777, 778, 779, 780, 781, 782, 783, 784, 785,\n",
      "       786, 787, 788, 789, 790, 791, 792, 793, 794, 795, 796, 797, 798,\n",
      "       799, 800, 801, 802, 803, 804, 805, 806, 807, 808, 809, 810, 811,\n",
      "       812, 813, 814, 815, 816, 817, 818, 819, 820, 821, 822, 823, 828,\n",
      "       829, 830, 831, 840, 841, 842, 843, 848, 849, 850, 851, 856, 857,\n",
      "       858, 859]),)\n"
     ]
    }
   ],
   "source": [
    "%matplotlib qt5\n",
    "plt.style.use('ggplot')\n",
    "length=np.where(sumRight>0.2)\n",
    "print(len(length[0]))\n",
    "\n",
    "#print(sumRight[440])\n",
    "#print(sumRight[100])\n",
    "print(length)\n",
    "num_bins = 60\n",
    "plt.hist(sumRight, num_bins,range=[0, 1], facecolor='magenta', alpha=0.5)\n",
    "plt.title(r'Hermitized; FT along $k_x$ and $k_z$; $k_y=\\pi$; unit cell: {}'.format(L))\n",
    "plt.xlabel('Localization')\n",
    "plt.ylabel('# of incidents')\n",
    "#plt.ylim([0,700])\n",
    "plt.show()\n"
   ]
  },
  {
   "cell_type": "code",
   "execution_count": 10,
   "metadata": {},
   "outputs": [
    {
     "name": "stderr",
     "output_type": "stream",
     "text": [
      "/Users/anar/opt/anaconda3/lib/python3.7/site-packages/ipykernel_launcher.py:12: ComplexWarning: Casting complex values to real discards the imaginary part\n",
      "  if sys.path[0] == '':\n"
     ]
    }
   ],
   "source": [
    "%matplotlib qt5\n",
    "yatoms=4*L\n",
    "xatoms=L\n",
    "n=yatoms*xatoms\n",
    "s=0\n",
    "probDensity = np.zeros((n,n))\n",
    "while s<n:\n",
    "    index = s\n",
    "    vecpropr = e[1][:,index] #label r for right vector\n",
    "    psiSqr=vecpropr*np.conj(vecpropr) #probability for every lattice site\n",
    "    for j in range(len(probDensity[0])):\n",
    "        probDensity[index][j]+=psiSqr[j]\n",
    "    s += 1\n",
    "\n",
    "#print(len(probDensity))"
   ]
  },
  {
   "cell_type": "code",
   "execution_count": 11,
   "metadata": {},
   "outputs": [
    {
     "data": {
      "text/plain": [
       "<matplotlib.colorbar.Colorbar at 0x7ffe9b623c50>"
      ]
     },
     "execution_count": 11,
     "metadata": {},
     "output_type": "execute_result"
    }
   ],
   "source": [
    "%matplotlib qt5\n",
    "state=801\n",
    "\n",
    "# Implementation of matplotlib function \n",
    "dx, dy = 0.015, 0.015\n",
    "y, x = np.mgrid[slice(0, 20 + dy, dy), \n",
    "                slice(0, 20 + dx, dx)] \n",
    "\n",
    "\n",
    "plt.title(r'FT along $k_x$ and $k_z$;keeping nH-$k_x$ terms; unit cell: {}'.format(L))\n",
    "\n",
    "\n",
    "z=probDensity[state].reshape((xatoms,yatoms))\n",
    "\n",
    "z_min, z_max = z.min(), z.max() \n",
    "\n",
    "c = plt.imshow(z, cmap ='YlOrBr', vmin = z_min, vmax = z_max, \n",
    "                 extent =[x.min(), x.max(), y.min(), y.max()], \n",
    "                    interpolation ='nearest', origin ='lower') \n",
    "#plt.clim(0.0,0.30)\n",
    "plt.colorbar(c)"
   ]
  },
  {
   "cell_type": "code",
   "execution_count": 106,
   "metadata": {},
   "outputs": [
    {
     "data": {
      "text/plain": [
       "<matplotlib.colorbar.Colorbar at 0x7fad11b95550>"
      ]
     },
     "execution_count": 106,
     "metadata": {},
     "output_type": "execute_result"
    }
   ],
   "source": [
    "%matplotlib qt5\n",
    "states = np.array([740, 741, 742, 743, 748, 749, 750, 751, 756, 757, 758, 759, 768,\n",
    "       769, 770, 771, 776, 777, 778, 779, 780, 781, 782, 783, 784, 785,\n",
    "       786, 787, 788, 789, 790, 791, 792, 793, 794, 795, 796, 797, 798,\n",
    "       799, 800, 801, 802, 803, 804, 805, 806, 807, 808, 809, 810, 811,\n",
    "       812, 813, 814, 815, 816, 817, 818, 819, 820, 821, 822, 823, 828,\n",
    "       829, 830, 831, 840, 841, 842, 843, 848, 849, 850, 851, 856, 857,\n",
    "       858, 859])\n",
    "\n",
    "# Implementation of matplotlib function \n",
    "dx, dy = 0.015, 0.015\n",
    "y, x = np.mgrid[slice(0, 20 + dy, dy), \n",
    "                slice(0, 20 + dx, dx)] \n",
    "\n",
    "\n",
    "plt.title(r'added;FT along $k_x$ and $k_z$;keeping nH-$k_x$; unit cell: {}'.format(L))\n",
    "z=np.zeros(len(probDensity[state])).reshape((xatoms,yatoms))\n",
    "\n",
    "for i in states:\n",
    "    z+=probDensity[i].reshape((xatoms,yatoms))\n",
    "z=z/len(states)\n",
    "z_min, z_max = z.min(), z.max() \n",
    "\n",
    "c = plt.imshow(z, cmap ='YlOrBr', vmin = z_min, vmax = z_max, \n",
    "                 extent =[x.min(), x.max(), y.min(), y.max()], \n",
    "                    interpolation ='nearest', origin ='lower') \n",
    "#plt.clim(0.0,0.30)\n",
    "plt.colorbar(c)"
   ]
  },
  {
   "cell_type": "code",
   "execution_count": 100,
   "metadata": {},
   "outputs": [],
   "source": [
    "%matplotlib qt5\n",
    "plt.style.use('ggplot')\n",
    "\n",
    "plt.scatter(e[0].real, e[0].imag, s=10, c=sumRight, cmap='viridis',vmin=0)#,vmax=0.2)\n",
    "\n",
    "plt.title('Energy spectra')\n",
    "\n",
    "plt.colorbar()\n",
    "plt.xlim([-3, 3])\n",
    "plt.ylim([-3, 3])\n",
    "plt.xlabel('Energy, real')\n",
    "plt.ylabel('Energy, imag')\n",
    "\n",
    "plt.show()\n",
    "\n"
   ]
  },
  {
   "cell_type": "code",
   "execution_count": 99,
   "metadata": {},
   "outputs": [],
   "source": [
    "%matplotlib qt5\n",
    "plt.style.use('ggplot')\n",
    "\n",
    "n=4*L*L \n",
    "x=np.linspace(0,n,n)\n",
    "plt.scatter(x, e[0].imag, s=10, c=sumRight, cmap='viridis',vmin=0)#,vmax=0.2)\n",
    "\n",
    "plt.title('Spectra')\n",
    "plt.colorbar()\n",
    "#plt.xlim([-2, 2])\n",
    "#plt.ylim([-2, 2])\n",
    "plt.xlabel('unit cell')\n",
    "plt.ylabel('Energy, real')\n",
    "\n",
    "plt.show()\n"
   ]
  },
  {
   "cell_type": "code",
   "execution_count": null,
   "metadata": {},
   "outputs": [],
   "source": []
  }
 ],
 "metadata": {
  "kernelspec": {
   "display_name": "Python 3",
   "language": "python",
   "name": "python3"
  },
  "language_info": {
   "codemirror_mode": {
    "name": "ipython",
    "version": 3
   },
   "file_extension": ".py",
   "mimetype": "text/x-python",
   "name": "python",
   "nbconvert_exporter": "python",
   "pygments_lexer": "ipython3",
   "version": "3.7.4"
  }
 },
 "nbformat": 4,
 "nbformat_minor": 2
}
